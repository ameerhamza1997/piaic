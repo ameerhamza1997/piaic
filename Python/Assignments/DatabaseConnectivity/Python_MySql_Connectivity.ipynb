{
 "cells": [
  {
   "cell_type": "code",
   "execution_count": 1,
   "metadata": {},
   "outputs": [],
   "source": [
    "#Run this command in terminal to download mysql-connector: python -m pip install mysql-connector\n",
    "import mysql.connector"
   ]
  },
  {
   "cell_type": "code",
   "execution_count": 2,
   "metadata": {},
   "outputs": [
    {
     "name": "stdout",
     "output_type": "stream",
     "text": [
      "<mysql.connector.connection_cext.CMySQLConnection object at 0x00000278786A6CC0>\n"
     ]
    }
   ],
   "source": [
    "#Connect with Database Server\n",
    "mydb = mysql.connector.connect(\n",
    "  host=\"localhost\",\n",
    "  user=\"root\",\n",
    "  passwd=\"\"\n",
    ")\n",
    "\n",
    "print(mydb)"
   ]
  },
  {
   "cell_type": "code",
   "execution_count": 3,
   "metadata": {},
   "outputs": [],
   "source": [
    "#Create Database\n",
    "mycursor = mydb.cursor()\n",
    "mycursor.execute(\"CREATE DATABASE PythonTestDB\")"
   ]
  },
  {
   "cell_type": "code",
   "execution_count": 9,
   "metadata": {},
   "outputs": [],
   "source": [
    "#Connect with Created Database\n",
    "mydb = mysql.connector.connect(\n",
    "  host=\"localhost\",\n",
    "  user=\"root\",\n",
    "  passwd=\"\",\n",
    "  database=\"PythonTestDB\"\n",
    ")\n",
    "\n",
    "mycursor = mydb.cursor()\n",
    "#Create Table named User\n",
    "mycursor.execute(\"CREATE TABLE Users(ID int NOT NULL AUTO_INCREMENT, UserName VARCHAR(255), Password VARCHAR(255),  PRIMARY KEY (ID))\")"
   ]
  },
  {
   "cell_type": "code",
   "execution_count": 10,
   "metadata": {},
   "outputs": [
    {
     "name": "stdout",
     "output_type": "stream",
     "text": [
      "1 record inserted.\n"
     ]
    }
   ],
   "source": [
    "sql = \"INSERT INTO Users (UserName, Password) VALUES (%s, %s)\"\n",
    "val = (\"user1\", \"password1\")\n",
    "mycursor.execute(sql, val)\n",
    "mydb.commit()\n",
    "print(mycursor.rowcount, \"record inserted.\")"
   ]
  },
  {
   "cell_type": "code",
   "execution_count": 17,
   "metadata": {},
   "outputs": [
    {
     "name": "stdout",
     "output_type": "stream",
     "text": [
      "Enter Username:user1\n",
      "Enter Password:password1\n",
      "Successfully logged in!\n"
     ]
    }
   ],
   "source": [
    "user_name = input(\"Enter Username:\")\n",
    "password = input(\"Enter Password:\")\n",
    "mycursor.execute(\"SELECT * FROM users Where UserName='{}' AND Password='{}'\".format(user_name,password))\n",
    "\n",
    "myresult = mycursor.fetchone()\n",
    "if myresult != None:\n",
    "    print(\"Successfully logged in!\")\n",
    "else:\n",
    "    print(\"Failed attempt!\")"
   ]
  },
  {
   "cell_type": "code",
   "execution_count": null,
   "metadata": {},
   "outputs": [],
   "source": []
  }
 ],
 "metadata": {
  "kernelspec": {
   "display_name": "Python 3",
   "language": "python",
   "name": "python3"
  },
  "language_info": {
   "codemirror_mode": {
    "name": "ipython",
    "version": 3
   },
   "file_extension": ".py",
   "mimetype": "text/x-python",
   "name": "python",
   "nbconvert_exporter": "python",
   "pygments_lexer": "ipython3",
   "version": "3.7.3"
  }
 },
 "nbformat": 4,
 "nbformat_minor": 2
}
