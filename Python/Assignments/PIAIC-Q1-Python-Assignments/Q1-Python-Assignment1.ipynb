{
 "cells": [
  {
   "cell_type": "code",
   "execution_count": 2,
   "metadata": {},
   "outputs": [],
   "source": [
    "import math\n",
    "import datetime"
   ]
  },
  {
   "cell_type": "code",
   "execution_count": 10,
   "metadata": {},
   "outputs": [
    {
     "name": "stdout",
     "output_type": "stream",
     "text": [
      "Input Radius:0.5\n",
      "Area of Circle with radius 0.5 is 0.7853981633974483\n"
     ]
    }
   ],
   "source": [
    "# Q1. Write a Python program which accepts the radius of a circle from the user and compute the area\n",
    "r = float(input(\"Input Radius:\"))\n",
    "print(\"Area of Circle with radius {} is {}\".format(r, math.pi*(r**2)))"
   ]
  },
  {
   "cell_type": "code",
   "execution_count": 15,
   "metadata": {},
   "outputs": [
    {
     "name": "stdout",
     "output_type": "stream",
     "text": [
      "Enter Number:0\n",
      "Zero Entered\n"
     ]
    }
   ],
   "source": [
    "# Q2. Write a Python program to check if a number is positive, negative or zero\n",
    "number = float(input(\"Enter Number:\"))\n",
    "if number > 0:\n",
    "    print(\"Positive Number Entered\")\n",
    "elif number == 0:\n",
    "    print(\"Zero Entered\")\n",
    "else:\n",
    "    print(\"Negative Number Entered\")"
   ]
  },
  {
   "cell_type": "code",
   "execution_count": 20,
   "metadata": {},
   "outputs": [
    {
     "name": "stdout",
     "output_type": "stream",
     "text": [
      "Enter Numerator:100\n",
      "Enter Denominator:4\n",
      "Number 100 is Completely divisible by 4\n"
     ]
    }
   ],
   "source": [
    "# Q3. Write a Python program to check whether a number is completely divisible by another number. Accept two integer values form the user\n",
    "\n",
    "numerator = int(input(\"Enter Numerator:\"))\n",
    "denominator = int(input(\"Enter Denominator:\"))\n",
    "\n",
    "print(\"Number {} is {}Completely divisible by {}\".format(numerator,\"\" if numerator % denominator == 0 else \"NOT \", denominator))"
   ]
  },
  {
   "cell_type": "code",
   "execution_count": 41,
   "metadata": {},
   "outputs": [
    {
     "name": "stdout",
     "output_type": "stream",
     "text": [
      "Enter a date in (dd/mm/yy) format:2/2/2019\n",
      "Enter a date in (dd/mm/yy) format:2/2/2018\n",
      "There are 365 day(s) in between 2/2/2019 and 2/2/2019\n"
     ]
    }
   ],
   "source": [
    "#Q4. Write a Python program to calculate number of days between two dates\n",
    "str_date1 = input(\"Enter a date in (dd/mm/yy) format:\")\n",
    "str_date2 = input(\"Enter a date in (dd/mm/yy) format:\")\n",
    "dateFormat = '%d/%m/%Y'\n",
    "date1 = datetime.datetime.strptime(str_date1,dateFormat)\n",
    "date2 = datetime.datetime.strptime(str_date2,dateFormat)\n",
    "totalDays = abs(date1.date() - date2.date())\n",
    "print(\"There {} {} day(s) in between {} and {}\".format((\"is\" if totalDays.days == 1 else \"are\"), totalDays.days,str_date1,str_date1))"
   ]
  },
  {
   "cell_type": "code",
   "execution_count": 43,
   "metadata": {},
   "outputs": [
    {
     "name": "stdout",
     "output_type": "stream",
     "text": [
      "Enter Radius of Sphere:1\n",
      "Volume of the Sphere with Radius 1.0 is 4.1887902047863905\n"
     ]
    }
   ],
   "source": [
    "#Q5. Write a Python program to get the volume of a sphere, please take the radius as input from user\n",
    "sphere_r = float(input(\"Enter Radius of Sphere:\"))\n",
    "print(\"Volume of the Sphere with Radius {} is {}\".format(sphere_r, (4/3)*math.pi*(sphere_r**3)))"
   ]
  },
  {
   "cell_type": "code",
   "execution_count": 45,
   "metadata": {},
   "outputs": [
    {
     "name": "stdout",
     "output_type": "stream",
     "text": [
      "Enter String:hi\n",
      "How many copies of String you need:4\n",
      "hihihihi\n"
     ]
    }
   ],
   "source": [
    "#Q6. Write a Python program to get a string which is n (non-negative integer) copies of a given string.\n",
    "string_to_repeat = input(\"Enter String:\")\n",
    "repeat_count = int(input(\"How many copies of String you need:\"))\n",
    "\n",
    "print(string_to_repeat * repeat_count)"
   ]
  },
  {
   "cell_type": "code",
   "execution_count": 52,
   "metadata": {},
   "outputs": [
    {
     "name": "stdout",
     "output_type": "stream",
     "text": [
      "Enter Number:-2\n",
      "-2 is Even\n"
     ]
    }
   ],
   "source": [
    "#Q7. Write a Python program to find whether a given number (accept from the user) is even or odd, print out an appropriate message to the user\n",
    "number_to_identify = int(input(\"Enter Number:\"))\n",
    "print(\"{} is {}\".format(number_to_identify, \"Even\" if math.pow(-1,number_to_identify) > 0 else \"Odd\"))"
   ]
  },
  {
   "cell_type": "code",
   "execution_count": 58,
   "metadata": {},
   "outputs": [
    {
     "name": "stdout",
     "output_type": "stream",
     "text": [
      "Enter a character:B\n",
      "Letter B is NOT Vowel\n"
     ]
    }
   ],
   "source": [
    "#Q8. Write a Python program to test whether a passed letter is a vowel or not\n",
    "vowels = ['A','E','I','O','U']\n",
    "alphabet_to_identify = input(\"Enter a character:\")\n",
    "print(\"Letter {} is {}Vowel\".format(alphabet_to_identify, \"\" if str.upper(alphabet_to_identify) in vowels else \"NOT \" ))"
   ]
  },
  {
   "cell_type": "code",
   "execution_count": 59,
   "metadata": {},
   "outputs": [
    {
     "name": "stdout",
     "output_type": "stream",
     "text": [
      "Enter magnitude of Triangle base:4\n",
      "Enter magnitude of Triangle height:4\n",
      "Area of a Triangle with Height 4.0 and Base 4.0 is 8.0\n"
     ]
    }
   ],
   "source": [
    "#Q9. Write a Python program that will accept the base and height of a triangle and compute the area\n",
    "triangle_base = float(input(\"Enter magnitude of Triangle base:\"))\n",
    "triangle_height = float(input(\"Enter magnitude of Triangle height:\"))\n",
    "print(\"Area of a Triangle with Height {} and Base {} is {}\".format(triangle_base,triangle_height, (triangle_base * triangle_height)/2))"
   ]
  },
  {
   "cell_type": "code",
   "execution_count": null,
   "metadata": {},
   "outputs": [],
   "source": [
    "#Q10. Write a Python program to compute the future value of a specified principal amount, rate of interest, and a number of years\n",
    "principal = float(input(\"Please enter principal amount:\"))\n",
    "interest_rate = float(input(\"Please Enter Rate of interest in %:\"))\n",
    "no_of_years = int(input(\"Enter number of years for investment:\"))\n",
    "total_amount =  principal*(1 + interest_rate * no_of_years)\n",
    "print(\"After {} years your principal amount {} over an interest rate of {} % will be {}\".format(no_of_years,principal, interest_rate,math.ceil(total_amount)))\n"
   ]
  },
  {
   "cell_type": "code",
   "execution_count": 4,
   "metadata": {},
   "outputs": [
    {
     "name": "stdout",
     "output_type": "stream",
     "text": [
      "Enter Co-ordinate for x1:2\n",
      "Enter Co-ordinate for x2:4\n",
      "Enter Co-ordinate for y1:4\n",
      "Enter Co-ordinate for y2:4\n",
      "Distance between points (2.0, 4.0) and (4.0, 4.0) is 2.0\n"
     ]
    }
   ],
   "source": [
    "#Q11. Write a Python program to compute the distance between the points (x1, y1) and (x2, y2).\n",
    "x1 = float(input(\"Enter Co-ordinate for x1:\"))\n",
    "x2 = float(input(\"Enter Co-ordinate for x2:\"))\n",
    "y1 = float(input(\"Enter Co-ordinate for y1:\"))\n",
    "y2 = float(input(\"Enter Co-ordinate for y2:\"))\n",
    "x = (x2 - x1) ** 2\n",
    "y = (y2 - y1) ** 2\n",
    "total_distance = math.sqrt(x+y)\n",
    "\n",
    "print(f\"Distance between points {(x1, y1)} and {(x2, y2)} is {total_distance}\")"
   ]
  },
  {
   "cell_type": "code",
   "execution_count": 5,
   "metadata": {},
   "outputs": [
    {
     "name": "stdout",
     "output_type": "stream",
     "text": [
      "Enter Height in Feet:5\n",
      "There are 152.4 Cm in 5.0 ft\n"
     ]
    }
   ],
   "source": [
    "#Q12. Write a Python program to convert height in feet to centimetres.\n",
    "feets = float(input(\"Enter Height in Feet:\")) \n",
    "centimeters = feets * 30.48\n",
    "print(f\"There are {centimeters} Cm in {feets} ft\")\n"
   ]
  },
  {
   "cell_type": "code",
   "execution_count": 4,
   "metadata": {},
   "outputs": [
    {
     "name": "stdout",
     "output_type": "stream",
     "text": [
      "Enter Height in Cm:180\n",
      "Enter Weight in Kg:75\n",
      "Your BMI is 23.15\n"
     ]
    }
   ],
   "source": [
    "#Q13. Write a Python program to calculate body mass index\n",
    "bmi_height_cm = float(input(\"Enter Height in Cm:\"))\n",
    "bmi_weight = float(input(\"Enter Weight in Kg:\"))\n",
    "bmi_height_meter = bmi_height_cm / 100\n",
    "BMI = bmi_weight / (bmi_height_meter**2)\n",
    "print(\"Your BMI is {}\".format(round(BMI,2)))"
   ]
  },
  {
   "cell_type": "code",
   "execution_count": 10,
   "metadata": {},
   "outputs": [
    {
     "name": "stdout",
     "output_type": "stream",
     "text": [
      "Enter value of n:5\n",
      "Sum of n Positive integers till 5 is 15\n"
     ]
    }
   ],
   "source": [
    "#Q14. Write a python program to sum of the first n positive integers - Method 1\n",
    "numbers_to_sum = int(input(\"Enter value of n:\"))\n",
    "total_sum = int((numbers_to_sum*(numbers_to_sum + 1))/2)\n",
    "print(\"Sum of n Positive integers till {} is {}\".format(numbers_to_sum,total_sum))"
   ]
  },
  {
   "cell_type": "code",
   "execution_count": 18,
   "metadata": {},
   "outputs": [
    {
     "name": "stdout",
     "output_type": "stream",
     "text": [
      "Enter value of n:5\n",
      "Sum of n Positive integers till 5 is 15\n"
     ]
    }
   ],
   "source": [
    "#Q14. Write a python program to sum of the first n positive integers - Method 2\n",
    "numbers_to_sum = int(input(\"Enter value of n:\"))\n",
    "print(\"Sum of n Positive integers till {} is {}\".format(numbers_to_sum,sum(range(1,numbers_to_sum+1))))"
   ]
  },
  {
   "cell_type": "code",
   "execution_count": 33,
   "metadata": {},
   "outputs": [
    {
     "name": "stdout",
     "output_type": "stream",
     "text": [
      "Enter a number:15\n",
      "Sum of 1 + 5 is 6\n"
     ]
    }
   ],
   "source": [
    "#Q15. Write a Python program to calculate the sum of the digits in an integer\n",
    "digits_to_sum = input(\"Enter a number:\")\n",
    "all_digits_int = []\n",
    "sum_string = \"\"\n",
    "for chr in digits_to_sum:\n",
    "    all_digits_int.append(int(chr))\n",
    "    \n",
    "print(\"Sum of {} is {}\".format(\" + \".join(\"{0}\".format(n) for n in all_digits_int),sum(all_digits_int)))"
   ]
  },
  {
   "cell_type": "code",
   "execution_count": 42,
   "metadata": {},
   "outputs": [
    {
     "name": "stdout",
     "output_type": "stream",
     "text": [
      "Enter a decimal number:5\n",
      "Binary Representation of 5 is 101\n"
     ]
    }
   ],
   "source": [
    "#Q16. Write a Python program to convert an decimal integer to binary\n",
    "base_ten_number = int(input(\"Enter a decimal number:\"))\n",
    "print(\"Binary Representation of {} is {}\".format(base_ten_number,bin(base_ten_number)[2:]))"
   ]
  },
  {
   "cell_type": "code",
   "execution_count": 43,
   "metadata": {},
   "outputs": [
    {
     "name": "stdout",
     "output_type": "stream",
     "text": [
      "Enter a Binary number:100\n",
      "Decimal Representation of 100 is 4\n"
     ]
    }
   ],
   "source": [
    "#Q17. Write a program to convert binary number to Decimal number\n",
    "binary_number = input(\"Enter a Binary number:\")\n",
    "print(\"Decimal Representation of {} is {}\".format(binary_number,int(binary_number,2)))"
   ]
  },
  {
   "cell_type": "code",
   "execution_count": 52,
   "metadata": {},
   "outputs": [
    {
     "name": "stdout",
     "output_type": "stream",
     "text": [
      "Enter text:QuickBrownFoxJumpsovertheDog\n",
      "Vowels:9\n",
      "Consonants:19\n"
     ]
    }
   ],
   "source": [
    "#Q18. Input a text and count the occurrences of vowels and consonant\n",
    "full_text = input(\"Enter text:\").upper().replace(\" \",\"\")\n",
    "vowels = ['A','E','I','O','U']\n",
    "vowel_count = 0\n",
    "for c in vowels:\n",
    "    vowel_count += full_text.count(c)\n",
    "print(\"Vowels:{}\".format(vowel_count))\n",
    "print(\"Consonants:{}\".format(len(full_text) - vowel_count))"
   ]
  },
  {
   "cell_type": "code",
   "execution_count": 65,
   "metadata": {},
   "outputs": [
    {
     "name": "stdout",
     "output_type": "stream",
     "text": [
      "Enter text:aha\n",
      "Text aha is Palindrome\n"
     ]
    }
   ],
   "source": [
    "#Q19. Write a program to check whether given input is palindrome or not\n",
    "palindrome = input('Enter text:')\n",
    "print(\"Text {} is {}Palindrome\".format(palindrome, \"\" if palindrome == palindrome[::-1] else \"NOT\"))"
   ]
  },
  {
   "cell_type": "code",
   "execution_count": 76,
   "metadata": {},
   "outputs": [
    {
     "name": "stdout",
     "output_type": "stream",
     "text": [
      "Enter text:python 2.3\n",
      "{'Alphabets': 6, 'Numbers': 2, 'Spaces': 1, 'Special Characters': 1}\n"
     ]
    }
   ],
   "source": [
    "#Q20. Write a Python program that accepts a string and calculate the number of digits and letters\n",
    "input_dictionary = {'Alphabets': 0, 'Numbers': 0,'Spaces':0,'Special Characters':0}\n",
    "full_sentence = input(\"Enter text:\")\n",
    "for c in full_sentence:\n",
    "    if c.isalpha():\n",
    "        input_dictionary['Alphabets']+=1\n",
    "    elif c.isnumeric():\n",
    "        input_dictionary['Numbers']+=1\n",
    "    elif c.isspace():\n",
    "        input_dictionary['Spaces']+=1\n",
    "    else:\n",
    "        input_dictionary['Special Characters']+=1\n",
    "print(input_dictionary)"
   ]
  },
  {
   "cell_type": "code",
   "execution_count": 72,
   "metadata": {},
   "outputs": [
    {
     "name": "stdout",
     "output_type": "stream",
     "text": [
      "\r\n",
      "* \r\n",
      "* * \r\n",
      "* * * \r\n",
      "* * * * \r\n",
      "* * * * * \r\n",
      "* * * * \r\n",
      "* * * \r\n",
      "* * \r\n",
      "* \r\n",
      "\r\n",
      "\r\n"
     ]
    }
   ],
   "source": [
    "#Q21.Write a Python program to construct the following pattern\n",
    "rows = 5\n",
    "for i in range (0, rows+1):\n",
    "    for j in range(1, i + 1):\n",
    "        print(\"*\", end=' ')\n",
    "    print(\"\\r\")\n",
    "for i in range ( rows+1, 0, -1):\n",
    "    for j in range(1, i -1):\n",
    "        print(\"*\", end=' ')\n",
    "    print(\"\\r\")"
   ]
  },
  {
   "cell_type": "code",
   "execution_count": 71,
   "metadata": {},
   "outputs": [
    {
     "name": "stdout",
     "output_type": "stream",
     "text": [
      "\r\n",
      "1 \r\n",
      "1 2 \r\n",
      "1 2 3 \r\n",
      "1 2 3 4 \r\n",
      "1 2 3 4 5 \r\n",
      "1 2 3 4 \r\n",
      "1 2 3 \r\n",
      "1 2 \r\n",
      "1 \r\n",
      "\r\n",
      "\r\n"
     ]
    }
   ],
   "source": [
    "#Q22.Write a Python program to construct the following pattern\n",
    "rows = 5\n",
    "for i in range (0, rows+1):\n",
    "    for j in range(1, i + 1):\n",
    "        print(f\"{j}\", end=' ')\n",
    "    print(\"\\r\")\n",
    "for i in range ( rows+1, 0, -1):\n",
    "    for j in range(1, i -1):\n",
    "        print(f\"{j}\", end=' ')\n",
    "    print(\"\\r\")"
   ]
  },
  {
   "cell_type": "code",
   "execution_count": 66,
   "metadata": {},
   "outputs": [
    {
     "name": "stdout",
     "output_type": "stream",
     "text": [
      "1\n",
      "22\n",
      "333\n",
      "4444\n",
      "55555\n",
      "666666\n",
      "7777777\n",
      "88888888\n",
      "999999999\n"
     ]
    }
   ],
   "source": [
    "#Q23. Write a Python program that accepts a string and calculate the number of digits and letters\n",
    "for c in range(1,10):\n",
    "    print(f\"{c}\"*c)"
   ]
  },
  {
   "cell_type": "code",
   "execution_count": null,
   "metadata": {},
   "outputs": [],
   "source": []
  }
 ],
 "metadata": {
  "kernelspec": {
   "display_name": "Python 3",
   "language": "python",
   "name": "python3"
  },
  "language_info": {
   "codemirror_mode": {
    "name": "ipython",
    "version": 3
   },
   "file_extension": ".py",
   "mimetype": "text/x-python",
   "name": "python",
   "nbconvert_exporter": "python",
   "pygments_lexer": "ipython3",
   "version": "3.7.3"
  }
 },
 "nbformat": 4,
 "nbformat_minor": 2
}
