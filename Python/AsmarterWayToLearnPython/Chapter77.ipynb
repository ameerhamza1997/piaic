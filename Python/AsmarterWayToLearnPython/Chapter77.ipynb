{
 "cells": [
  {
   "cell_type": "code",
   "execution_count": 4,
   "metadata": {},
   "outputs": [
    {
     "name": "stdout",
     "output_type": "stream",
     "text": [
      "Provide filename to opentest.txt\n",
      "abc\n",
      "asdfasd\n",
      "sadfsd\n",
      "adfs\n"
     ]
    }
   ],
   "source": [
    "while True:\n",
    "    try:\n",
    "        filename = input(\"Provide filename to open\")\n",
    "        with open(filename) as f:\n",
    "            print(f.read())\n",
    "            break\n",
    "    except FileNotFoundError:\n",
    "        print(\"Could not find file. Please try again.\")    "
   ]
  },
  {
   "cell_type": "code",
   "execution_count": null,
   "metadata": {},
   "outputs": [],
   "source": []
  }
 ],
 "metadata": {
  "kernelspec": {
   "display_name": "Python 3",
   "language": "python",
   "name": "python3"
  },
  "language_info": {
   "codemirror_mode": {
    "name": "ipython",
    "version": 3
   },
   "file_extension": ".py",
   "mimetype": "text/x-python",
   "name": "python",
   "nbconvert_exporter": "python",
   "pygments_lexer": "ipython3",
   "version": "3.7.3"
  }
 },
 "nbformat": 4,
 "nbformat_minor": 2
}
